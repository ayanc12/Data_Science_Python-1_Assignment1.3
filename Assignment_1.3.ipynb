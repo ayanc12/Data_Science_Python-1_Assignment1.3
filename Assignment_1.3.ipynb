{
 "cells": [
  {
   "cell_type": "code",
   "execution_count": 1,
   "metadata": {},
   "outputs": [
    {
     "name": "stdout",
     "output_type": "stream",
     "text": [
      "Enter the first name:  AYAN\n",
      "Enter the last name:  CHAKRABORTY\n",
      "Your name in reverse order is::   NAYA YTROBARKAHC\n"
     ]
    }
   ],
   "source": [
    "# Accepting the first and the last name of the user\n",
    "\n",
    "first = input (\"Enter the first name:  \")\n",
    "last = input (\"Enter the last name:  \")\n",
    "\n",
    "# logic for reversing the first name \n",
    "\n",
    "res_first = []\n",
    "for elm in first:\n",
    "    res_first.insert(0,elm)\n",
    "\n",
    "# logic for reversing the last name\n",
    "    \n",
    "res_last = []\n",
    "for val in last:\n",
    "    res_last.insert(0,val)\n",
    "    \n",
    "# inserting a space in between first and last name\n",
    "    \n",
    "final_reverse_name = \"\".join(res_first) + \" \" + \"\".join(res_last)\n",
    "\n",
    "# Displaying the reversed name with a space in between the first and the last name\n",
    "\n",
    "print (\"Your name in reverse order is::  \", final_reverse_name)"
   ]
  },
  {
   "cell_type": "code",
   "execution_count": null,
   "metadata": {},
   "outputs": [],
   "source": []
  }
 ],
 "metadata": {
  "kernelspec": {
   "display_name": "Python 3",
   "language": "python",
   "name": "python3"
  },
  "language_info": {
   "codemirror_mode": {
    "name": "ipython",
    "version": 3
   },
   "file_extension": ".py",
   "mimetype": "text/x-python",
   "name": "python",
   "nbconvert_exporter": "python",
   "pygments_lexer": "ipython3",
   "version": "3.6.4"
  }
 },
 "nbformat": 4,
 "nbformat_minor": 2
}
